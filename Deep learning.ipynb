{
 "cells": [
  {
   "cell_type": "code",
   "execution_count": 130,
   "id": "6633da80",
   "metadata": {},
   "outputs": [],
   "source": [
    "import numpy as np\n",
    "import matplotlib.pyplot as plt"
   ]
  },
  {
   "cell_type": "code",
   "execution_count": 3,
   "id": "2ee5a513",
   "metadata": {},
   "outputs": [
    {
     "data": {
      "text/plain": [
       "array([1, 2, 3, 4])"
      ]
     },
     "execution_count": 3,
     "metadata": {},
     "output_type": "execute_result"
    }
   ],
   "source": [
    "# arrays\n",
    "a=np.array((1,2,3,4))\n",
    "a"
   ]
  },
  {
   "cell_type": "code",
   "execution_count": 4,
   "id": "90ac21ac",
   "metadata": {},
   "outputs": [
    {
     "data": {
      "text/plain": [
       "dtype('int64')"
      ]
     },
     "execution_count": 4,
     "metadata": {},
     "output_type": "execute_result"
    }
   ],
   "source": [
    "a.dtype"
   ]
  },
  {
   "cell_type": "code",
   "execution_count": 6,
   "id": "55eef608",
   "metadata": {},
   "outputs": [
    {
     "name": "stdout",
     "output_type": "stream",
     "text": [
      "4 (4,)\n"
     ]
    }
   ],
   "source": [
    "print(a.size,a.shape)"
   ]
  },
  {
   "cell_type": "code",
   "execution_count": 15,
   "id": "ae2114dc",
   "metadata": {},
   "outputs": [],
   "source": [
    "a=np.array([[1,92,3,4]],dtype=np.float64)"
   ]
  },
  {
   "cell_type": "code",
   "execution_count": 16,
   "id": "2202eb38",
   "metadata": {},
   "outputs": [
    {
     "data": {
      "text/plain": [
       "array([[ 1., 92.,  3.,  4.]])"
      ]
     },
     "execution_count": 16,
     "metadata": {},
     "output_type": "execute_result"
    }
   ],
   "source": [
    "a"
   ]
  },
  {
   "cell_type": "code",
   "execution_count": 17,
   "id": "5d3c066f",
   "metadata": {},
   "outputs": [
    {
     "name": "stdout",
     "output_type": "stream",
     "text": [
      "(1, 4) 4\n"
     ]
    }
   ],
   "source": [
    "print(a.shape, a.size)"
   ]
  },
  {
   "cell_type": "code",
   "execution_count": 18,
   "id": "8b5b72db",
   "metadata": {},
   "outputs": [
    {
     "name": "stdout",
     "output_type": "stream",
     "text": [
      "2 float64 (1, 4) 4 100.0 [[0 2 3 1]]\n"
     ]
    }
   ],
   "source": [
    "print(a.ndim, a.dtype, a.shape, a.size, a.sum(), a.argsort())"
   ]
  },
  {
   "cell_type": "code",
   "execution_count": 21,
   "id": "b435664f",
   "metadata": {},
   "outputs": [],
   "source": [
    "a=a.astype(np.float32)"
   ]
  },
  {
   "cell_type": "code",
   "execution_count": 22,
   "id": "025e910f",
   "metadata": {},
   "outputs": [
    {
     "data": {
      "text/plain": [
       "array([[ 1.],\n",
       "       [92.],\n",
       "       [ 3.],\n",
       "       [ 4.]], dtype=float32)"
      ]
     },
     "execution_count": 22,
     "metadata": {},
     "output_type": "execute_result"
    }
   ],
   "source": [
    "a.T"
   ]
  },
  {
   "cell_type": "code",
   "execution_count": 33,
   "id": "a19892bc",
   "metadata": {},
   "outputs": [],
   "source": [
    "b=np.array([[1,2.,3],[4,5,6]])"
   ]
  },
  {
   "cell_type": "code",
   "execution_count": 34,
   "id": "01cacb56",
   "metadata": {},
   "outputs": [
    {
     "data": {
      "text/plain": [
       "(2, 3)"
      ]
     },
     "execution_count": 34,
     "metadata": {},
     "output_type": "execute_result"
    }
   ],
   "source": [
    "b.shape"
   ]
  },
  {
   "cell_type": "code",
   "execution_count": 35,
   "id": "172f48e6",
   "metadata": {},
   "outputs": [
    {
     "data": {
      "text/plain": [
       "dtype('float64')"
      ]
     },
     "execution_count": 35,
     "metadata": {},
     "output_type": "execute_result"
    }
   ],
   "source": [
    "b.dtype"
   ]
  },
  {
   "cell_type": "code",
   "execution_count": 36,
   "id": "7c324137",
   "metadata": {},
   "outputs": [
    {
     "data": {
      "text/plain": [
       "(2, 3)"
      ]
     },
     "execution_count": 36,
     "metadata": {},
     "output_type": "execute_result"
    }
   ],
   "source": [
    "b.shape"
   ]
  },
  {
   "cell_type": "code",
   "execution_count": 43,
   "id": "bf277862",
   "metadata": {},
   "outputs": [
    {
     "data": {
      "text/plain": [
       "(6, 2)"
      ]
     },
     "execution_count": 43,
     "metadata": {},
     "output_type": "execute_result"
    }
   ],
   "source": [
    "b.size, b.ndim"
   ]
  },
  {
   "cell_type": "code",
   "execution_count": 40,
   "id": "9bd06823",
   "metadata": {},
   "outputs": [
    {
     "data": {
      "text/plain": [
       "2"
      ]
     },
     "execution_count": 40,
     "metadata": {},
     "output_type": "execute_result"
    }
   ],
   "source": [
    "b.ndim"
   ]
  },
  {
   "cell_type": "code",
   "execution_count": 42,
   "id": "b988c00c",
   "metadata": {},
   "outputs": [
    {
     "data": {
      "text/plain": [
       "int"
      ]
     },
     "execution_count": 42,
     "metadata": {},
     "output_type": "execute_result"
    }
   ],
   "source": [
    "type(1,)"
   ]
  },
  {
   "cell_type": "code",
   "execution_count": 49,
   "id": "9f4585ab",
   "metadata": {},
   "outputs": [
    {
     "data": {
      "text/plain": [
       "(2, 6)"
      ]
     },
     "execution_count": 49,
     "metadata": {},
     "output_type": "execute_result"
    }
   ],
   "source": [
    "array=np.array([[1,2,3,4,5,5],[2,1,2,2,4,4]],dtype=np.float64)\n",
    "array.shape"
   ]
  },
  {
   "cell_type": "code",
   "execution_count": 55,
   "id": "fe0351c6",
   "metadata": {},
   "outputs": [
    {
     "data": {
      "text/plain": [
       "array([[1., 2., 3.],\n",
       "       [4., 5., 5.],\n",
       "       [2., 1., 2.],\n",
       "       [2., 4., 4.]])"
      ]
     },
     "execution_count": 55,
     "metadata": {},
     "output_type": "execute_result"
    }
   ],
   "source": [
    "np.reshape(array,newshape=[4,3])"
   ]
  },
  {
   "cell_type": "code",
   "execution_count": 54,
   "id": "8fa2628b",
   "metadata": {},
   "outputs": [
    {
     "data": {
      "text/plain": [
       "array([[[1.],\n",
       "        [2.],\n",
       "        [3.]],\n",
       "\n",
       "       [[4.],\n",
       "        [5.],\n",
       "        [5.]],\n",
       "\n",
       "       [[2.],\n",
       "        [1.],\n",
       "        [2.]],\n",
       "\n",
       "       [[2.],\n",
       "        [4.],\n",
       "        [4.]]])"
      ]
     },
     "execution_count": 54,
     "metadata": {},
     "output_type": "execute_result"
    }
   ],
   "source": [
    "np.reshape(array,newshape=[4,3,-1])"
   ]
  },
  {
   "cell_type": "code",
   "execution_count": 53,
   "id": "4968e5e3",
   "metadata": {},
   "outputs": [
    {
     "data": {
      "text/plain": [
       "array([[1., 2., 3., 4., 5., 5., 2., 1., 2., 2., 4., 4.]])"
      ]
     },
     "execution_count": 53,
     "metadata": {},
     "output_type": "execute_result"
    }
   ],
   "source": [
    "np.reshape(array,newshape=[1,12])"
   ]
  },
  {
   "cell_type": "code",
   "execution_count": 60,
   "id": "2d3312aa",
   "metadata": {},
   "outputs": [
    {
     "data": {
      "text/plain": [
       "(array([[0., 0., 0.],\n",
       "        [0., 0., 0.],\n",
       "        [0., 0., 0.]]),\n",
       " array([[1., 1., 1.],\n",
       "        [1., 1., 1.],\n",
       "        [1., 1., 1.]]),\n",
       " array([[1., 1., 1.],\n",
       "        [1., 1., 1.],\n",
       "        [1., 1., 1.]]))"
      ]
     },
     "execution_count": 60,
     "metadata": {},
     "output_type": "execute_result"
    }
   ],
   "source": [
    "np.zeros(shape=(3,3)),np.ones(shape=(3,3)),np.empty(shape=(3,3))"
   ]
  },
  {
   "cell_type": "code",
   "execution_count": 61,
   "id": "6b10adc4",
   "metadata": {},
   "outputs": [
    {
     "data": {
      "text/plain": [
       "array([ 0. ,  2.5,  5. ,  7.5, 10. ])"
      ]
     },
     "execution_count": 61,
     "metadata": {},
     "output_type": "execute_result"
    }
   ],
   "source": [
    " np.linspace(0,10,5)"
   ]
  },
  {
   "cell_type": "code",
   "execution_count": 63,
   "id": "a004966b",
   "metadata": {},
   "outputs": [
    {
     "data": {
      "text/plain": [
       "array([0, 3, 6, 9])"
      ]
     },
     "execution_count": 63,
     "metadata": {},
     "output_type": "execute_result"
    }
   ],
   "source": [
    "np.arange(0,10,3)"
   ]
  },
  {
   "cell_type": "code",
   "execution_count": 85,
   "id": "fd83b451",
   "metadata": {},
   "outputs": [
    {
     "data": {
      "text/plain": [
       "array([[[ 0.62453255, -1.09763028, -0.17922358, -1.81483553],\n",
       "        [ 0.29565447,  1.60983536, -0.45209037, -1.20165255],\n",
       "        [-0.92309584,  0.32321602,  0.48957292,  0.62437327]],\n",
       "\n",
       "       [[ 1.81248695,  1.41457305, -0.10150186,  0.28385307],\n",
       "        [ 1.04484704,  0.83353404,  0.44569618,  1.38269516],\n",
       "        [-2.22724681, -0.55749865,  1.02368253, -1.46329275]]])"
      ]
     },
     "execution_count": 85,
     "metadata": {},
     "output_type": "execute_result"
    }
   ],
   "source": [
    "d=np.random.standard_normal((2,3,4))\n",
    "d"
   ]
  },
  {
   "cell_type": "code",
   "execution_count": 77,
   "id": "868c6824",
   "metadata": {},
   "outputs": [
    {
     "data": {
      "text/plain": [
       "array([[ 0.45564819, -0.24642304],\n",
       "       [ 2.04240122,  0.42158447],\n",
       "       [ 0.68598569, -0.69344255],\n",
       "       [ 1.07778842,  1.03583083],\n",
       "       [ 0.64566903,  1.81125476],\n",
       "       [ 2.18923685,  0.93186794],\n",
       "       [ 0.37427786,  0.72992929],\n",
       "       [ 0.13237261,  0.30543341],\n",
       "       [ 1.63346799,  1.11343421],\n",
       "       [ 1.21557758,  2.45601247],\n",
       "       [ 0.83207017,  0.64897892],\n",
       "       [ 0.81282539, -0.10430934]])"
      ]
     },
     "execution_count": 77,
     "metadata": {},
     "output_type": "execute_result"
    }
   ],
   "source": [
    "c=np.random.multivariate_normal(mean=[1,1], cov=.6*np.eye(2), size=(12,), check_valid='warn', tol=1e-8)\n",
    "c"
   ]
  },
  {
   "cell_type": "code",
   "execution_count": 78,
   "id": "33712d41",
   "metadata": {},
   "outputs": [
    {
     "data": {
      "text/plain": [
       "(12, 2)"
      ]
     },
     "execution_count": 78,
     "metadata": {},
     "output_type": "execute_result"
    }
   ],
   "source": [
    "c.shape"
   ]
  },
  {
   "cell_type": "markdown",
   "id": "f8b41301",
   "metadata": {},
   "source": [
    "## Axis"
   ]
  },
  {
   "cell_type": "code",
   "execution_count": 90,
   "id": "dc33c720",
   "metadata": {},
   "outputs": [
    {
     "data": {
      "text/plain": [
       "(array([[ 2.4370195 ,  0.31694277, -0.28072544, -1.53098247],\n",
       "        [ 1.34050151,  2.4433694 , -0.00639418,  0.18104261],\n",
       "        [-3.15034264, -0.23428262,  1.51325546, -0.83891949]]),\n",
       " array([[ 1.21850975,  0.15847138, -0.14036272, -0.76549123],\n",
       "        [ 0.67025075,  1.2216847 , -0.00319709,  0.09052131],\n",
       "        [-1.57517132, -0.11714131,  0.75662773, -0.41945974]]))"
      ]
     },
     "execution_count": 90,
     "metadata": {},
     "output_type": "execute_result"
    }
   ],
   "source": [
    "np.sum(d,axis=0),np.mean(d,axis=0)\n"
   ]
  },
  {
   "cell_type": "markdown",
   "id": "f70ba8e1",
   "metadata": {},
   "source": [
    "## stacking"
   ]
  },
  {
   "cell_type": "code",
   "execution_count": 99,
   "id": "52004ed2",
   "metadata": {},
   "outputs": [
    {
     "data": {
      "text/plain": [
       "array([[ 0.71600211, -2.08449033,  1.21448674],\n",
       "       [-1.21682047, -0.43900901, -0.94529967],\n",
       "       [ 1.18218761,  0.72513966, -0.13736563],\n",
       "       [ 0.0447738 , -0.22784362,  1.38376965]])"
      ]
     },
     "execution_count": 99,
     "metadata": {},
     "output_type": "execute_result"
    }
   ],
   "source": [
    "a=np.random.standard_normal((2,3))\n",
    "b=np.random.standard_normal((2,3))\n",
    "np.vstack([a,b])"
   ]
  },
  {
   "cell_type": "code",
   "execution_count": 100,
   "id": "cc11342f",
   "metadata": {},
   "outputs": [
    {
     "data": {
      "text/plain": [
       "array([[ 1.18218761,  0.72513966, -0.13736563,  0.71600211, -2.08449033,\n",
       "         1.21448674],\n",
       "       [ 0.0447738 , -0.22784362,  1.38376965, -1.21682047, -0.43900901,\n",
       "        -0.94529967]])"
      ]
     },
     "execution_count": 100,
     "metadata": {},
     "output_type": "execute_result"
    }
   ],
   "source": [
    "np.hstack([b,a])"
   ]
  },
  {
   "cell_type": "code",
   "execution_count": 102,
   "id": "9adc6197",
   "metadata": {},
   "outputs": [
    {
     "data": {
      "text/plain": [
       "array([[ 1.18218761,  0.72513966, -0.13736563],\n",
       "       [ 0.0447738 , -0.22784362,  1.38376965],\n",
       "       [ 0.71600211, -2.08449033,  1.21448674],\n",
       "       [-1.21682047, -0.43900901, -0.94529967]])"
      ]
     },
     "execution_count": 102,
     "metadata": {},
     "output_type": "execute_result"
    }
   ],
   "source": [
    "np.concatenate([b,a])####### np.hstack([b,a])"
   ]
  },
  {
   "cell_type": "code",
   "execution_count": 103,
   "id": "5d13355a",
   "metadata": {},
   "outputs": [
    {
     "data": {
      "text/plain": [
       "array([[ 0.71600211, -1.21682047],\n",
       "       [-2.08449033, -0.43900901],\n",
       "       [ 1.21448674, -0.94529967]])"
      ]
     },
     "execution_count": 103,
     "metadata": {},
     "output_type": "execute_result"
    }
   ],
   "source": [
    "np.transpose(a)"
   ]
  },
  {
   "cell_type": "code",
   "execution_count": 118,
   "id": "af1ce0fb",
   "metadata": {},
   "outputs": [
    {
     "data": {
      "text/plain": [
       "array([[ 0.71600211, -1.21682047],\n",
       "       [-2.08449033, -0.43900901],\n",
       "       [ 1.21448674, -0.94529967]])"
      ]
     },
     "execution_count": 118,
     "metadata": {},
     "output_type": "execute_result"
    }
   ],
   "source": [
    "a.T"
   ]
  },
  {
   "cell_type": "code",
   "execution_count": 120,
   "id": "626d1539",
   "metadata": {},
   "outputs": [],
   "source": [
    "np.save('example.npy',a)"
   ]
  },
  {
   "cell_type": "code",
   "execution_count": 122,
   "id": "b6dbedda",
   "metadata": {},
   "outputs": [
    {
     "data": {
      "text/plain": [
       "array([[ 0.71600211, -2.08449033,  1.21448674],\n",
       "       [-1.21682047, -0.43900901, -0.94529967]])"
      ]
     },
     "execution_count": 122,
     "metadata": {},
     "output_type": "execute_result"
    }
   ],
   "source": [
    "a1=np.load('example.npy')\n",
    "a1"
   ]
  },
  {
   "cell_type": "markdown",
   "id": "f3201653",
   "metadata": {},
   "source": [
    "### Check  the speed of array"
   ]
  },
  {
   "cell_type": "code",
   "execution_count": 166,
   "id": "b9328c48",
   "metadata": {},
   "outputs": [],
   "source": [
    "class_1=np.random.multivariate_normal(mean=[-1,-1], cov=.01*np.eye(2), size=(100,))\n",
    "class_2=np.random.multivariate_normal(mean=[1,1], cov=.012*np.eye(2), size=(100,))\n",
    "lable_1=np.zeros(shape=100)\n",
    "lable_2=np.ones(shape=100)"
   ]
  },
  {
   "cell_type": "code",
   "execution_count": 162,
   "id": "484334c8",
   "metadata": {},
   "outputs": [
    {
     "data": {
      "image/png": "[encoded data removed]",
      "text/plain": [
       "<Figure size 640x480 with 1 Axes>"
      ]
     },
     "metadata": {},
     "output_type": "display_data"
    }
   ],
   "source": [
    "plt.figure(0)\n",
    "plt.scatter(x = class_1[:,0],y=lable_1[:,],c='b')\n",
    "plt.scatter(x = class_2[:,0],y=lable_2[:,],c='y');"
   ]
  },
  {
   "cell_type": "code",
   "execution_count": 156,
   "id": "f5afd199",
   "metadata": {},
   "outputs": [
    {
     "data": {
      "image/png": "[encoded data removed]",
      "text/plain": [
       "<Figure size 640x480 with 1 Axes>"
      ]
     },
     "metadata": {},
     "output_type": "display_data"
    }
   ],
   "source": [
    "for i in range(100):\n",
    "    plt.plot(class_A[i][0], class_A[i][1], marker='o', linestyle='-', c='r')\n",
    "    plt.plot(class_B[i][0], class_B[i][1], marker='o', linestyle='-', c='y')    "
   ]
  },
  {
   "cell_type": "code",
   "execution_count": 164,
   "id": "2c7819c6",
   "metadata": {},
   "outputs": [
    {
     "data": {
      "text/plain": [
       "(100,)"
      ]
     },
     "execution_count": 164,
     "metadata": {},
     "output_type": "execute_result"
    }
   ],
   "source": [
    "lable_1.shape"
   ]
  },
  {
   "cell_type": "code",
   "execution_count": 170,
   "id": "75cb99b5",
   "metadata": {},
   "outputs": [],
   "source": [
    "Dataset=np.vstack((class_1,class_2))\n",
    "label=np.vstack((lable_1,lable_2))"
   ]
  },
  {
   "cell_type": "code",
   "execution_count": 172,
   "id": "e6ca4a6e",
   "metadata": {},
   "outputs": [
    {
     "data": {
      "text/plain": [
       "(array([[-1.10020962, -0.98575552],\n",
       "        [-0.94363504, -0.92013624],\n",
       "        [-1.16185949, -0.99824488],\n",
       "        [-0.89219008, -1.10711915],\n",
       "        [-0.98444968, -1.03384102],\n",
       "        [-0.9185387 , -1.03539162],\n",
       "        [-1.04030217, -1.07299331],\n",
       "        [-0.91604704, -0.9334572 ],\n",
       "        [-0.93204452, -0.87281716],\n",
       "        [-1.09276781, -0.97781388],\n",
       "        [-0.92297915, -0.94808458],\n",
       "        [-0.99193184, -0.98124448],\n",
       "        [-1.07344916, -0.99083957],\n",
       "        [-1.01324286, -1.06364305],\n",
       "        [-0.98834366, -1.04499666],\n",
       "        [-0.93626285, -1.10559906],\n",
       "        [-0.94688639, -0.90714133],\n",
       "        [-1.0960975 , -0.85454422],\n",
       "        [-0.99427196, -1.0787011 ],\n",
       "        [-1.01906271, -0.96669927],\n",
       "        [-0.92028327, -1.05814735],\n",
       "        [-1.00336542, -0.89104806],\n",
       "        [-1.18017717, -0.87496834],\n",
       "        [-0.96452341, -0.85315587],\n",
       "        [-0.90156816, -1.13410389],\n",
       "        [-0.94018289, -0.98565167],\n",
       "        [-1.05565584, -1.07505   ],\n",
       "        [-1.08679817, -1.23651165],\n",
       "        [-1.13672898, -1.14634325],\n",
       "        [-0.98626964, -0.94660516],\n",
       "        [-0.93284973, -1.07634681],\n",
       "        [-0.9889408 , -1.00652116],\n",
       "        [-1.0412694 , -0.88331855],\n",
       "        [-1.05440278, -0.93018866],\n",
       "        [-0.96126945, -1.02161782],\n",
       "        [-0.913691  , -1.04765424],\n",
       "        [-1.16091282, -0.84992317],\n",
       "        [-1.04359594, -0.93742799],\n",
       "        [-0.99699776, -0.95927831],\n",
       "        [-0.93458399, -0.94101296],\n",
       "        [-1.08541963, -0.78490861],\n",
       "        [-1.03942086, -0.919991  ],\n",
       "        [-0.91393951, -0.9040556 ],\n",
       "        [-0.92617571, -0.94643039],\n",
       "        [-1.051593  , -1.18728906],\n",
       "        [-1.12329721, -0.85794594],\n",
       "        [-1.11564791, -0.99485437],\n",
       "        [-0.87455934, -1.00479823],\n",
       "        [-0.93860466, -1.19943316],\n",
       "        [-1.04158651, -0.9024781 ],\n",
       "        [-1.07896333, -1.16067578],\n",
       "        [-1.13146249, -1.05969761],\n",
       "        [-0.97611809, -0.91169001],\n",
       "        [-1.00039909, -0.91812838],\n",
       "        [-0.96201838, -0.83358314],\n",
       "        [-0.94373921, -1.09528487],\n",
       "        [-0.96672746, -1.0928627 ],\n",
       "        [-0.99737859, -1.05235146],\n",
       "        [-1.11817565, -1.14210457],\n",
       "        [-1.07533226, -1.14523928],\n",
       "        [-0.94229524, -1.00360347],\n",
       "        [-0.92777262, -1.0066061 ],\n",
       "        [-0.91615985, -0.95474292],\n",
       "        [-1.11102047, -1.28329433],\n",
       "        [-1.04113888, -0.95992522],\n",
       "        [-0.96522808, -1.08864539],\n",
       "        [-0.9703857 , -1.13764087],\n",
       "        [-0.93931524, -0.97965945],\n",
       "        [-1.10886494, -0.96385878],\n",
       "        [-1.00583885, -1.04857192],\n",
       "        [-1.04401578, -0.96754246],\n",
       "        [-0.88714181, -0.90712773],\n",
       "        [-0.95528243, -0.97471027],\n",
       "        [-0.84380951, -0.77962738],\n",
       "        [-0.98715464, -1.07570436],\n",
       "        [-1.092671  , -1.05318015],\n",
       "        [-0.93819945, -1.02924942],\n",
       "        [-1.01827931, -0.97719584],\n",
       "        [-1.10770582, -0.98933948],\n",
       "        [-1.17450494, -0.91995188],\n",
       "        [-0.91888184, -1.15217095],\n",
       "        [-1.03730995, -0.96495626],\n",
       "        [-1.03167867, -1.01873105],\n",
       "        [-0.9482636 , -0.88963336],\n",
       "        [-0.98429279, -0.9073343 ],\n",
       "        [-0.87343815, -0.93946381],\n",
       "        [-1.02128326, -1.23724164],\n",
       "        [-1.05846321, -0.89494491],\n",
       "        [-1.15571693, -0.84665104],\n",
       "        [-1.05348331, -1.22156351],\n",
       "        [-0.99962453, -0.91963119],\n",
       "        [-0.92431598, -1.16151879],\n",
       "        [-1.02451752, -1.07096261],\n",
       "        [-1.00257317, -1.03384482],\n",
       "        [-0.96180083, -1.08332599],\n",
       "        [-0.95395501, -0.94375245],\n",
       "        [-1.11256159, -1.0215015 ],\n",
       "        [-0.90998646, -1.15310273],\n",
       "        [-0.88642695, -1.16328022],\n",
       "        [-0.91760707, -1.13826623],\n",
       "        [ 0.90568283,  0.72324974],\n",
       "        [ 0.8719485 ,  1.13987079],\n",
       "        [ 1.16470352,  0.71390416],\n",
       "        [ 0.8372585 ,  1.13527708],\n",
       "        [ 1.01350791,  0.8595216 ],\n",
       "        [ 0.98154064,  1.11590056],\n",
       "        [ 1.06433355,  1.1808655 ],\n",
       "        [ 0.92071365,  1.02805651],\n",
       "        [ 0.88136189,  1.12576872],\n",
       "        [ 0.8592462 ,  0.87848878],\n",
       "        [ 0.78982749,  0.97957854],\n",
       "        [ 0.90242487,  0.98941102],\n",
       "        [ 0.957114  ,  0.84293559],\n",
       "        [ 0.93268118,  1.040575  ],\n",
       "        [ 1.04222099,  0.94488357],\n",
       "        [ 0.82783736,  1.01367823],\n",
       "        [ 1.17731467,  1.21801952],\n",
       "        [ 1.16528077,  0.94629533],\n",
       "        [ 0.97359097,  0.96737213],\n",
       "        [ 1.1412226 ,  0.88154806],\n",
       "        [ 0.91369331,  1.26784149],\n",
       "        [ 1.14425152,  1.06442175],\n",
       "        [ 0.99177062,  1.02705403],\n",
       "        [ 0.93252358,  0.96125936],\n",
       "        [ 0.74464332,  0.94976747],\n",
       "        [ 0.99313913,  1.14395645],\n",
       "        [ 0.98592637,  0.90015278],\n",
       "        [ 1.03186797,  0.9629855 ],\n",
       "        [ 0.96619026,  1.11206506],\n",
       "        [ 1.05430253,  0.98122539],\n",
       "        [ 0.79781184,  1.05033792],\n",
       "        [ 1.05433098,  0.90699646],\n",
       "        [ 0.76303868,  0.78018799],\n",
       "        [ 1.15396301,  1.17790237],\n",
       "        [ 1.17447799,  0.97037175],\n",
       "        [ 1.13544793,  1.1015389 ],\n",
       "        [ 0.87176854,  1.07670248],\n",
       "        [ 0.95558175,  0.8475182 ],\n",
       "        [ 0.92986294,  0.80207794],\n",
       "        [ 0.7625766 ,  1.07407833],\n",
       "        [ 0.79481917,  0.98520676],\n",
       "        [ 0.97175153,  0.85847944],\n",
       "        [ 0.84894102,  1.11844909],\n",
       "        [ 1.15716414,  1.04966734],\n",
       "        [ 1.10537366,  1.0372308 ],\n",
       "        [ 1.03418787,  0.93753912],\n",
       "        [ 1.03657068,  1.00461483],\n",
       "        [ 0.88033347,  0.97013176],\n",
       "        [ 0.87620494,  0.89672395],\n",
       "        [ 0.92246482,  1.09488126],\n",
       "        [ 0.96876706,  1.14786532],\n",
       "        [ 0.92489524,  1.08165576],\n",
       "        [ 0.88140106,  0.96832476],\n",
       "        [ 1.0325204 ,  0.86825183],\n",
       "        [ 1.12264028,  1.10179361],\n",
       "        [ 1.07718224,  1.006383  ],\n",
       "        [ 0.91640999,  0.82843863],\n",
       "        [ 1.03728954,  0.88757769],\n",
       "        [ 0.98337034,  1.32200392],\n",
       "        [ 1.22644024,  0.85879259],\n",
       "        [ 1.04769433,  0.89870564],\n",
       "        [ 0.96251057,  1.08659505],\n",
       "        [ 0.96614098,  0.98459561],\n",
       "        [ 1.10027779,  0.8814749 ],\n",
       "        [ 0.90603066,  1.01127636],\n",
       "        [ 1.04440061,  1.12991795],\n",
       "        [ 1.01011606,  0.90514026],\n",
       "        [ 1.02389369,  0.99785165],\n",
       "        [ 1.06700678,  0.7690915 ],\n",
       "        [ 0.78574402,  1.09337507],\n",
       "        [ 1.02299594,  1.04315308],\n",
       "        [ 1.00490091,  0.99712346],\n",
       "        [ 0.99611856,  0.82745112],\n",
       "        [ 0.9633215 ,  1.04336521],\n",
       "        [ 0.83749502,  1.09294388],\n",
       "        [ 0.88836565,  0.87882819],\n",
       "        [ 0.78723972,  1.1567215 ],\n",
       "        [ 0.76216817,  1.03737944],\n",
       "        [ 0.99199376,  0.84473427],\n",
       "        [ 1.12793862,  1.10594384],\n",
       "        [ 1.0853652 ,  0.93683231],\n",
       "        [ 1.04364995,  1.12613601],\n",
       "        [ 0.89733362,  1.13731463],\n",
       "        [ 0.91479053,  1.06490236],\n",
       "        [ 1.08674637,  1.09812923],\n",
       "        [ 0.95350298,  0.91826263],\n",
       "        [ 1.09422444,  1.09492563],\n",
       "        [ 1.04763856,  1.0945583 ],\n",
       "        [ 0.94095912,  1.00940291],\n",
       "        [ 0.94821179,  1.17734907],\n",
       "        [ 1.12678488,  0.88403159],\n",
       "        [ 0.82559474,  1.02944848],\n",
       "        [ 0.8699362 ,  0.85395156],\n",
       "        [ 0.90054204,  1.2270015 ],\n",
       "        [ 1.05092189,  1.00310946],\n",
       "        [ 1.08318872,  0.87981447],\n",
       "        [ 0.86647103,  0.99263775],\n",
       "        [ 1.14465825,  1.09835552],\n",
       "        [ 1.13278336,  1.12537142],\n",
       "        [ 1.06426211,  1.01017546]]),\n",
       " array([[0., 0., 0., 0., 0., 0., 0., 0., 0., 0., 0., 0., 0., 0., 0., 0.,\n",
       "         0., 0., 0., 0., 0., 0., 0., 0., 0., 0., 0., 0., 0., 0., 0., 0.,\n",
       "         0., 0., 0., 0., 0., 0., 0., 0., 0., 0., 0., 0., 0., 0., 0., 0.,\n",
       "         0., 0., 0., 0., 0., 0., 0., 0., 0., 0., 0., 0., 0., 0., 0., 0.,\n",
       "         0., 0., 0., 0., 0., 0., 0., 0., 0., 0., 0., 0., 0., 0., 0., 0.,\n",
       "         0., 0., 0., 0., 0., 0., 0., 0., 0., 0., 0., 0., 0., 0., 0., 0.,\n",
       "         0., 0., 0., 0.],\n",
       "        [1., 1., 1., 1., 1., 1., 1., 1., 1., 1., 1., 1., 1., 1., 1., 1.,\n",
       "         1., 1., 1., 1., 1., 1., 1., 1., 1., 1., 1., 1., 1., 1., 1., 1.,\n",
       "         1., 1., 1., 1., 1., 1., 1., 1., 1., 1., 1., 1., 1., 1., 1., 1.,\n",
       "         1., 1., 1., 1., 1., 1., 1., 1., 1., 1., 1., 1., 1., 1., 1., 1.,\n",
       "         1., 1., 1., 1., 1., 1., 1., 1., 1., 1., 1., 1., 1., 1., 1., 1.,\n",
       "         1., 1., 1., 1., 1., 1., 1., 1., 1., 1., 1., 1., 1., 1., 1., 1.,\n",
       "         1., 1., 1., 1.]]))"
      ]
     },
     "execution_count": 172,
     "metadata": {},
     "output_type": "execute_result"
    }
   ],
   "source": [
    "Dataset, label\n"
   ]
  },
  {
   "cell_type": "code",
   "execution_count": null,
   "id": "95dbb94b",
   "metadata": {},
   "outputs": [],
   "source": []
  }
 ],
 "metadata": {
  "kernelspec": {
   "display_name": "Python 3 (ipykernel)",
   "language": "python",
   "name": "python3"
  },
  "language_info": {
   "codemirror_mode": {
    "name": "ipython",
    "version": 3
   },
   "file_extension": ".py",
   "mimetype": "text/x-python",
   "name": "python",
   "nbconvert_exporter": "python",
   "pygments_lexer": "ipython3",
   "version": "3.10.12"
  },
  "varInspector": {
   "cols": {
    "lenName": 16,
    "lenType": 16,
    "lenVar": 40
   },
   "kernels_config": {
    "python": {
     "delete_cmd_postfix": "",
     "delete_cmd_prefix": "del ",
     "library": "var_list.py",
     "varRefreshCmd": "print(var_dic_list())"
    },
    "r": {
     "delete_cmd_postfix": ") ",
     "delete_cmd_prefix": "rm(",
     "library": "var_list.r",
     "varRefreshCmd": "cat(var_dic_list()) "
    }
   },
   "types_to_exclude": [
    "module",
    "function",
    "builtin_function_or_method",
    "instance",
    "_Feature"
   ],
   "window_display": false
  }
 },
 "nbformat": 4,
 "nbformat_minor": 5
}
